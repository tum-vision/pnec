{
 "cells": [
  {
   "cell_type": "code",
   "execution_count": null,
   "id": "88e84564",
   "metadata": {},
   "outputs": [],
   "source": [
    "#\n",
    "# BSD 3-Clause License\n",
    "#\n",
    "# This file is part of the Basalt project.\n",
    "# https://gitlab.com/VladyslavUsenko/basalt.git\n",
    "#\n",
    "# Copyright (c) 2019-2021, Vladyslav Usenko and Nikolaus Demmel.\n",
    "# All rights reserved.\n",
    "#"
   ]
  },
  {
   "cell_type": "code",
   "execution_count": 1,
   "id": "8d2ecbd2",
   "metadata": {},
   "outputs": [],
   "source": [
    "from pathlib import Path\n",
    "import numpy as np\n",
    "from scipy.spatial.transform import Rotation as R\n",
    "import matplotlib.pyplot as plt\n",
    "import matplotlib\n",
    "matplotlib.rcParams['text.usetex'] = True\n",
    "from mpl_toolkits.axes_grid1 import make_axes_locatable\n",
    "\n",
    "from pnec.simulation.load_experiment import load_problem\n",
    "from pnec.common import pnec_energy_rotations\n",
    "from pnec.math import rotation_between_points\n"
   ]
  },
  {
   "cell_type": "code",
   "execution_count": 2,
   "id": "da693a31",
   "metadata": {},
   "outputs": [],
   "source": [
    "def mesh_of_rotations(n: int, m: int, max_pitch: float, max_yaw: float, base_rotation: np.array):\n",
    "    # returns a mesh of size (n, m) of rotations around the base_rotation with a maximum pitch and yaw\n",
    "    pitch = np.linspace(-max_pitch, max_pitch, n)\n",
    "    yaws = np.linspace(-max_yaw, max_yaw, m)\n",
    "\n",
    "    pitch_v, yaw_v = np.meshgrid(pitch, yaws, indexing='ij')\n",
    "\n",
    "    euler_angles = np.stack(\n",
    "        [yaw_v.ravel(), pitch_v.ravel()], axis=1)\n",
    "\n",
    "    scipy_rotations = R.from_euler(\n",
    "        'xy', euler_angles, degrees=True) * R.from_matrix(base_rotation)\n",
    "    return scipy_rotations.as_matrix().reshape((n, m, 3, 3)), pitch_v, yaw_v"
   ]
  },
  {
   "cell_type": "code",
   "execution_count": 16,
   "id": "8ecc958a",
   "metadata": {},
   "outputs": [],
   "source": [
    "def evaluate_experiment(path: Path, omnidirectional: bool, problem_num: int, use_prediction: bool, pred_path: Path):\n",
    "    n = 1 + 100\n",
    "    m = 1 + 100\n",
    "    max_pitch = 5\n",
    "    max_yaw = 5\n",
    "    gt_pose, bvs_1, bvs_2, sigmas, pred_pose = load_problem(path, omnidirectional, problem_num, True, pred_path)\n",
    "    \n",
    "    if use_prediction:\n",
    "        rots, ppitch, yyaw = mesh_of_rotations(n, m, max_pitch, max_yaw, gt_pose.rotationMatrix())\n",
    "    else:\n",
    "        rots, ppitch, yyaw = mesh_of_rotations(n, m, max_pitch, max_yaw, pred_pose.rotationMatrix())\n",
    "\n",
    "    # use two translations, 1. t1 = t_pred, 2. angle(t1, t2) = theta\n",
    "    theta = 30 * np.pi/180\n",
    "    phi = 10 * np.pi/180\n",
    "    t1 = pred_pose.translation()\n",
    "    rotational_offset = rotation_between_points(np.array([0.0, 0.0, 1.0]), t1)\n",
    "    t2 = np.matmul(rotational_offset, np.array([np.sin(phi)*np.sin(theta), np.cos(phi)\n",
    "                                      * np.sin(theta), np.cos(theta)]))\n",
    "\n",
    "    energy_1 = pnec_energy_rotations(rots, t1, bvs_1, bvs_2, sigmas)\n",
    "    energy_2 = pnec_energy_rotations(rots, t2, bvs_1, bvs_2, sigmas)\n",
    "\n",
    "    return {'energy_1': energy_1, 'energy_2': energy_2, 'ppitch': ppitch, 'yyaw': yyaw, 'rotations': rots}\n"
   ]
  },
  {
   "cell_type": "markdown",
   "id": "5b26ab22",
   "metadata": {},
   "source": [
    "### Load Problem"
   ]
  },
  {
   "cell_type": "code",
   "execution_count": 17,
   "id": "ffafea08",
   "metadata": {},
   "outputs": [],
   "source": [
    "base_folder = Path('/Volumes/Samsung_T5/new_experiments/normal')\n",
    "omnidirectional = True\n",
    "noise_type = 'anisotropic_inhomogeneous'\n",
    "noise_level = '1.000000'\n",
    "problem_number = 13\n",
    "\n",
    "if omnidirectional:\n",
    "        camera_folder = base_folder.joinpath('omnidirectional')\n",
    "else:\n",
    "    camera_folder = base_folder.joinpath('pinhole')\n",
    "path_1 = camera_folder.joinpath(noise_type, noise_level)\n",
    "path_2 = camera_folder.joinpath(noise_type + '_no_t', noise_level)\n",
    "\n",
    "use_pred = True\n",
    "\n",
    "results_1 = evaluate_experiment(\n",
    "    path_1, omnidirectional, problem_number, use_pred, path_1.joinpath('alt_timing1', 'pnec_solution.csv'))\n",
    "\n",
    "results_2 = evaluate_experiment(\n",
    "    path_2, omnidirectional, problem_number, use_pred, path_2.joinpath('alt_timing1', 'pnec_solution.csv'))\n"
   ]
  },
  {
   "cell_type": "markdown",
   "id": "216b79aa",
   "metadata": {},
   "source": [
    "### Plotting for two different translations t1, t2"
   ]
  },
  {
   "cell_type": "code",
   "execution_count": 192,
   "id": "d6154740",
   "metadata": {},
   "outputs": [
    {
     "data": {
      "application/vnd.jupyter.widget-view+json": {
       "model_id": "a58ed08ba42d45beb78526f3862cfffc",
       "version_major": 2,
       "version_minor": 0
      },
      "text/plain": [
       "Canvas(toolbar=Toolbar(toolitems=[('Home', 'Reset original view', 'home', 'home'), ('Back', 'Back to previous …"
      ]
     },
     "metadata": {},
     "output_type": "display_data"
    }
   ],
   "source": [
    "plt.close(\"all\")\n",
    "\n",
    "hfac = 2.1*1.61803398875\n",
    "\n",
    "hsize = 7\n",
    "fig, axs = plt.subplots(2, 2, figsize=(\n",
    "    hsize, 1.2 * hsize/hfac), sharex=True, sharey=True)\n",
    "linewidth = 1.0\n",
    "color = 'r'\n",
    "level = 5\n",
    "mark_minimum = False\n",
    "\n",
    "for i, results in enumerate([results_1, results_2]):\n",
    "    vmin = min(results['energy_1'].min(), results['energy_2'].min())\n",
    "    vmax = max(results['energy_1'].max(), results['energy_2'].max())\n",
    "    for j, energy in enumerate([results['energy_1'], results['energy_2']]):\n",
    "        ax = axs[i, j]\n",
    "        cm = ax.pcolor(results['ppitch'], results['yyaw'], energy,\n",
    "                       shading='auto', vmin=vmin, vmax=vmax)\n",
    "        conm = ax.contour(results['ppitch'], results['yyaw'], energy, levels=level,\n",
    "                  colors=color, linewidths=linewidth)\n",
    "\n",
    "        if j == 1:\n",
    "            divider = make_axes_locatable(ax)\n",
    "            cax = divider.append_axes('right', size='5%', pad=0.05)\n",
    "            cbar = fig.colorbar(cm, cax=cax, orientation='vertical')\n",
    "            cbar.formatter.set_powerlimits((0, 0))\n",
    "\n",
    "        if mark_minimum:\n",
    "            size = 10.0\n",
    "            r_argmin = np.unravel_index(\n",
    "                energy.argmin(), energy.shape)\n",
    "            ax.scatter(results['ppitch'][r_argmin],\n",
    "                       results['yyaw'][r_argmin], c='r', s=size)\n",
    "\n",
    "\n",
    "ax = axs[0, 0]\n",
    "ax.set_ylabel(\"yaw to\\n$R_{\\\\textnormal{pred}}$ [deg]\", labelpad=1)\n",
    "ax.set_title(r\"Experiment {\\scshape w/o t}: \\quad $t = t_{\\textnormal{pred}}$\")\n",
    "ax = axs[0, 1]\n",
    "ax.set_title(\n",
    "    r\"{\\scshape w/o t}: \\quad $\\angle (t, t_{\\textnormal{pred}}) = 30^{\\circ}$\")\n",
    "ax = axs[1, 0]\n",
    "ax.set_ylabel(\"yaw to\\n$R_{\\\\textnormal{pred}}$ [deg]\", labelpad=1)\n",
    "ax.set_title(\n",
    "    r\"Experiment {\\scshape w/\\phantom{o} t}: \\quad $t = t_{\\textnormal{pred}}$\")\n",
    "ax.set_xlabel(r\"pitch to $R_{\\textnormal{pred}}$ [deg]\", labelpad=-1)\n",
    "ax = axs[1, 1]\n",
    "ax.set_title(\n",
    "    r\"{\\scshape w/\\phantom{o} t}: \\quad $\\angle (t, t_{\\textnormal{pred}}) = 30^{\\circ}$\")\n",
    "ax.set_xlabel(r\"pitch to $R_{\\textnormal{pred}}$ [deg]\", labelpad=-1)\n",
    "\n",
    "plt.tight_layout()\n",
    "plt.show()\n",
    "plt.savefig(\"energy_test.pdf\", bbox_inches='tight')\n"
   ]
  }
 ],
 "metadata": {
  "interpreter": {
   "hash": "eda424d7dfe4bee54ea326b691d0fdd7434a2c56b9c4494efa9ca16479eb24e8"
  },
  "kernelspec": {
   "display_name": "Python 3.9.5 64-bit ('venv': venv)",
   "name": "python3"
  },
  "language_info": {
   "codemirror_mode": {
    "name": "ipython",
    "version": 3
   },
   "file_extension": ".py",
   "mimetype": "text/x-python",
   "name": "python",
   "nbconvert_exporter": "python",
   "pygments_lexer": "ipython3",
   "version": "3.8.10"
  }
 },
 "nbformat": 4,
 "nbformat_minor": 5
}
